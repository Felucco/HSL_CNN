{
 "cells": [
  {
   "cell_type": "code",
   "execution_count": 1,
   "metadata": {},
   "outputs": [],
   "source": [
    "from tensorflow.keras.datasets import mnist\n",
    "from keras.models import Sequential\n",
    "from keras.layers import Conv2D, MaxPool2D, Dense, Flatten, Activation\n",
    "from tensorflow.keras.losses import CategoricalCrossentropy\n",
    "from tensorflow.keras.optimizers import Adam\n",
    "from tensorflow.keras.callbacks import History\n",
    "from tensorflow.keras.utils import to_categorical\n",
    "from tensorflow.keras.callbacks import ModelCheckpoint\n",
    "from keras.backend import function as Kfunction\n",
    "import numpy as np\n",
    "BATCH_SIZE = 128\n",
    "EPOCHS = 15\n",
    "LR = 0.009\n",
    "def build_model(in_shape: np.ndarray) -> Sequential:\n",
    "    model = Sequential()\n",
    "    model.add(Conv2D(10,7,padding=\"same\",kernel_initializer=\"glorot_normal\",bias_initializer=\"glorot_normal\",input_shape=in_shape)) #Using padding=same to emulate pre-padding + padding=valid; Glorot normal = Xavier\n",
    "    model.add(Activation(\"relu\"))\n",
    "    model.add(MaxPool2D(pool_size=2,strides=2))\n",
    "    model.add(Conv2D(20,7,padding=\"same\",kernel_initializer=\"glorot_normal\",bias_initializer=\"glorot_normal\"))\n",
    "    model.add(Activation(\"relu\"))\n",
    "    model.add(MaxPool2D(pool_size=2,strides=2))\n",
    "    model.add(Flatten())\n",
    "    model.add(Dense(84))\n",
    "    model.add(Activation(\"relu\"))\n",
    "    model.add(Dense(10)) #Linear activation as in the original model\n",
    "\n",
    "    opt = Adam(learning_rate=LR)\n",
    "    loss = CategoricalCrossentropy(from_logits=True) #As no softmax function is applied to the last layer\n",
    "\n",
    "    model.compile(optimizer=opt,loss=loss,metrics=[\"accuracy\"])\n",
    "    return model"
   ]
  },
  {
   "cell_type": "code",
   "execution_count": 3,
   "metadata": {},
   "outputs": [],
   "source": [
    "model = build_model([28,28,1])"
   ]
  },
  {
   "cell_type": "code",
   "execution_count": 4,
   "metadata": {},
   "outputs": [
    {
     "name": "stdout",
     "output_type": "stream",
     "text": [
      "Model: \"sequential_1\"\n",
      "_________________________________________________________________\n",
      " Layer (type)                Output Shape              Param #   \n",
      "=================================================================\n",
      " conv2d_1 (Conv2D)           (None, 28, 28, 10)        500       \n",
      "                                                                 \n",
      " activation (Activation)     (None, 28, 28, 10)        0         \n",
      "                                                                 \n",
      " max_pooling2d (MaxPooling2D  (None, 14, 14, 10)       0         \n",
      " )                                                               \n",
      "                                                                 \n",
      " conv2d_2 (Conv2D)           (None, 14, 14, 20)        9820      \n",
      "                                                                 \n",
      " activation_1 (Activation)   (None, 14, 14, 20)        0         \n",
      "                                                                 \n",
      " max_pooling2d_1 (MaxPooling  (None, 7, 7, 20)         0         \n",
      " 2D)                                                             \n",
      "                                                                 \n",
      " flatten (Flatten)           (None, 980)               0         \n",
      "                                                                 \n",
      " dense (Dense)               (None, 84)                82404     \n",
      "                                                                 \n",
      " activation_2 (Activation)   (None, 84)                0         \n",
      "                                                                 \n",
      " dense_1 (Dense)             (None, 10)                850       \n",
      "                                                                 \n",
      "=================================================================\n",
      "Total params: 93,574\n",
      "Trainable params: 93,574\n",
      "Non-trainable params: 0\n",
      "_________________________________________________________________\n"
     ]
    }
   ],
   "source": [
    "model.summary()"
   ]
  },
  {
   "cell_type": "code",
   "execution_count": 8,
   "metadata": {},
   "outputs": [
    {
     "data": {
      "text/plain": [
       "'activation_2'"
      ]
     },
     "execution_count": 8,
     "metadata": {},
     "output_type": "execute_result"
    }
   ],
   "source": [
    "model.get_layer(index=8).name"
   ]
  }
 ],
 "metadata": {
  "interpreter": {
   "hash": "cc53a3dd2427b92fb5dd4f80f4f01be3d825092c0928d890d1d60c4598da3194"
  },
  "kernelspec": {
   "display_name": "Python 3.10.4 64-bit",
   "language": "python",
   "name": "python3"
  },
  "language_info": {
   "codemirror_mode": {
    "name": "ipython",
    "version": 3
   },
   "file_extension": ".py",
   "mimetype": "text/x-python",
   "name": "python",
   "nbconvert_exporter": "python",
   "pygments_lexer": "ipython3",
   "version": "3.10.4"
  },
  "orig_nbformat": 4
 },
 "nbformat": 4,
 "nbformat_minor": 2
}
